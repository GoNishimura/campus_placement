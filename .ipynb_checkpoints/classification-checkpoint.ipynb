{
 "cells": [
  {
   "cell_type": "code",
   "execution_count": 160,
   "metadata": {},
   "outputs": [],
   "source": [
    "import pandas as pd\n",
    "data=pd.read_csv('Placement_Data_Full_Class.csv',encoding=\"utf-8\")"
   ]
  },
  {
   "cell_type": "code",
   "execution_count": 161,
   "metadata": {},
   "outputs": [],
   "source": [
    "data = data.drop(['sl_no'], axis=1)\n",
    "data = data.drop(['salary'], axis=1)\n",
    "# y = data['status']\n",
    "# y = pd.Categorical(data['status'].map({'Placed': 1, 'Not Placed': 0}))\n",
    "y = data['status'].map({'Placed': 1, 'Not Placed': 0})\n",
    "X = data.drop(['status'], axis=1)\n",
    "X = pd.get_dummies(X)"
   ]
  },
  {
   "cell_type": "code",
   "execution_count": 162,
   "metadata": {},
   "outputs": [],
   "source": [
    "# X.head"
   ]
  },
  {
   "cell_type": "code",
   "execution_count": 163,
   "metadata": {},
   "outputs": [],
   "source": [
    "# y"
   ]
  },
  {
   "cell_type": "code",
   "execution_count": 184,
   "metadata": {},
   "outputs": [
    {
     "data": {
      "text/plain": [
       "count    215.000000\n",
       "mean       0.688372\n",
       "std        0.464240\n",
       "min        0.000000\n",
       "25%        0.000000\n",
       "50%        1.000000\n",
       "75%        1.000000\n",
       "max        1.000000\n",
       "Name: status, dtype: float64"
      ]
     },
     "execution_count": 184,
     "metadata": {},
     "output_type": "execute_result"
    }
   ],
   "source": [
    "y.describe()"
   ]
  },
  {
   "cell_type": "code",
   "execution_count": 165,
   "metadata": {},
   "outputs": [],
   "source": [
    "# import pandas_profiling as pdp"
   ]
  },
  {
   "cell_type": "code",
   "execution_count": 166,
   "metadata": {},
   "outputs": [],
   "source": [
    "# d = pd.read_csv('ice.csv')\n",
    "# d = pd.read_csv('ice.csv', encoding='utf-8')\n",
    "# d.profile_report()\n",
    "# pdp.ProfileReport(data)\n",
    "# from IPython.display import HTML\n",
    "# report = pandas_profiling.ProfileReport(d)\n",
    "# inner_html = report.to_html().replace('\"', \"&quot;\")\n",
    "# html = '<iframe srcdoc=\"{}\" width=1200 height=1200>'.format(inner_html)\n",
    "# display.HTML(html)"
   ]
  },
  {
   "cell_type": "code",
   "execution_count": 167,
   "metadata": {},
   "outputs": [],
   "source": [
    "# from sklearn.preprocessing import LabelEncoder\n",
    "# le = LabelEncoder()\n",
    "# for i in data.columns.values.tolist():\n",
    "#  if (i=='age'):\n",
    "#   pass\n",
    "#  else:\n",
    "#   titanic[i] = le.fit_transform(titanic[i])"
   ]
  },
  {
   "cell_type": "code",
   "execution_count": 168,
   "metadata": {},
   "outputs": [],
   "source": [
    "from sklearn.model_selection import train_test_split\n",
    "X_train,X_test,y_train,y_test=train_test_split(X,y,test_size=0.2,random_state=54,shuffle=True)"
   ]
  },
  {
   "cell_type": "code",
   "execution_count": 169,
   "metadata": {},
   "outputs": [],
   "source": [
    "# from sklearn_extensions.extreme_learning_machines.elm import GenELMClassifier\n",
    "# from sklearn_extensions.extreme_learning_machines.random_layer import RBFRandomLayer, MLPRandomLayer"
   ]
  },
  {
   "cell_type": "code",
   "execution_count": 170,
   "metadata": {},
   "outputs": [],
   "source": [
    "# nh = 4\n",
    "# srhl_tanh = MLPRandomLayer(n_hidden=nh, activation_func='tanh', random_state=0)\n",
    "# srhl_rbf = RBFRandomLayer(n_hidden=nh*2, rbf_width=0.1, random_state=0)\n",
    "# clf1=GenELMClassifier(hidden_layer=srhl_tanh)"
   ]
  },
  {
   "cell_type": "code",
   "execution_count": 171,
   "metadata": {},
   "outputs": [],
   "source": [
    "# clf1.fit(X_train,y_train)\n",
    "# print(clf1.score(X_test,y_test))"
   ]
  },
  {
   "cell_type": "code",
   "execution_count": 172,
   "metadata": {},
   "outputs": [
    {
     "name": "stdout",
     "output_type": "stream",
     "text": [
      "[1]\tvalid_0's binary_logloss: 0.578628\n",
      "Training until validation scores don't improve for 5 rounds\n",
      "[2]\tvalid_0's binary_logloss: 0.559844\n",
      "[3]\tvalid_0's binary_logloss: 0.543054\n",
      "[4]\tvalid_0's binary_logloss: 0.52943\n",
      "[5]\tvalid_0's binary_logloss: 0.515642\n",
      "[6]\tvalid_0's binary_logloss: 0.504116\n",
      "[7]\tvalid_0's binary_logloss: 0.493722\n",
      "[8]\tvalid_0's binary_logloss: 0.482091\n",
      "[9]\tvalid_0's binary_logloss: 0.473021\n",
      "[10]\tvalid_0's binary_logloss: 0.469547\n",
      "[11]\tvalid_0's binary_logloss: 0.457898\n",
      "[12]\tvalid_0's binary_logloss: 0.447274\n",
      "[13]\tvalid_0's binary_logloss: 0.437579\n",
      "[14]\tvalid_0's binary_logloss: 0.430359\n",
      "[15]\tvalid_0's binary_logloss: 0.423389\n",
      "[16]\tvalid_0's binary_logloss: 0.419231\n",
      "[17]\tvalid_0's binary_logloss: 0.414649\n",
      "[18]\tvalid_0's binary_logloss: 0.411238\n",
      "[19]\tvalid_0's binary_logloss: 0.408202\n",
      "[20]\tvalid_0's binary_logloss: 0.403474\n",
      "[21]\tvalid_0's binary_logloss: 0.398603\n",
      "[22]\tvalid_0's binary_logloss: 0.393462\n",
      "[23]\tvalid_0's binary_logloss: 0.388895\n",
      "[24]\tvalid_0's binary_logloss: 0.384849\n",
      "[25]\tvalid_0's binary_logloss: 0.380854\n",
      "[26]\tvalid_0's binary_logloss: 0.377211\n",
      "[27]\tvalid_0's binary_logloss: 0.374673\n",
      "[28]\tvalid_0's binary_logloss: 0.370617\n",
      "[29]\tvalid_0's binary_logloss: 0.364874\n",
      "[30]\tvalid_0's binary_logloss: 0.360129\n",
      "[31]\tvalid_0's binary_logloss: 0.357813\n",
      "[32]\tvalid_0's binary_logloss: 0.352868\n",
      "[33]\tvalid_0's binary_logloss: 0.348402\n",
      "[34]\tvalid_0's binary_logloss: 0.344374\n",
      "[35]\tvalid_0's binary_logloss: 0.340743\n",
      "[36]\tvalid_0's binary_logloss: 0.340097\n",
      "[37]\tvalid_0's binary_logloss: 0.339727\n",
      "[38]\tvalid_0's binary_logloss: 0.338347\n",
      "[39]\tvalid_0's binary_logloss: 0.334691\n",
      "[40]\tvalid_0's binary_logloss: 0.335088\n",
      "[41]\tvalid_0's binary_logloss: 0.332165\n",
      "[42]\tvalid_0's binary_logloss: 0.326399\n",
      "[43]\tvalid_0's binary_logloss: 0.324492\n",
      "[44]\tvalid_0's binary_logloss: 0.321587\n",
      "[45]\tvalid_0's binary_logloss: 0.3207\n",
      "[46]\tvalid_0's binary_logloss: 0.318809\n",
      "[47]\tvalid_0's binary_logloss: 0.312802\n",
      "[48]\tvalid_0's binary_logloss: 0.307231\n",
      "[49]\tvalid_0's binary_logloss: 0.302063\n",
      "[50]\tvalid_0's binary_logloss: 0.298136\n",
      "[51]\tvalid_0's binary_logloss: 0.296681\n",
      "[52]\tvalid_0's binary_logloss: 0.296733\n",
      "[53]\tvalid_0's binary_logloss: 0.295721\n",
      "[54]\tvalid_0's binary_logloss: 0.296111\n",
      "[55]\tvalid_0's binary_logloss: 0.295465\n",
      "[56]\tvalid_0's binary_logloss: 0.294614\n",
      "[57]\tvalid_0's binary_logloss: 0.293232\n",
      "[58]\tvalid_0's binary_logloss: 0.291807\n",
      "[59]\tvalid_0's binary_logloss: 0.291191\n",
      "[60]\tvalid_0's binary_logloss: 0.290761\n",
      "[61]\tvalid_0's binary_logloss: 0.290628\n",
      "[62]\tvalid_0's binary_logloss: 0.290749\n",
      "[63]\tvalid_0's binary_logloss: 0.291363\n",
      "[64]\tvalid_0's binary_logloss: 0.292065\n",
      "[65]\tvalid_0's binary_logloss: 0.292327\n",
      "[66]\tvalid_0's binary_logloss: 0.288391\n",
      "[67]\tvalid_0's binary_logloss: 0.28481\n",
      "[68]\tvalid_0's binary_logloss: 0.282292\n",
      "[69]\tvalid_0's binary_logloss: 0.279596\n",
      "[70]\tvalid_0's binary_logloss: 0.277059\n",
      "[71]\tvalid_0's binary_logloss: 0.276962\n",
      "[72]\tvalid_0's binary_logloss: 0.277363\n",
      "[73]\tvalid_0's binary_logloss: 0.276355\n",
      "[74]\tvalid_0's binary_logloss: 0.274427\n",
      "[75]\tvalid_0's binary_logloss: 0.274072\n",
      "[76]\tvalid_0's binary_logloss: 0.273212\n",
      "[77]\tvalid_0's binary_logloss: 0.273854\n",
      "[78]\tvalid_0's binary_logloss: 0.271675\n",
      "[79]\tvalid_0's binary_logloss: 0.271641\n",
      "[80]\tvalid_0's binary_logloss: 0.269777\n",
      "Did not meet early stopping. Best iteration is:\n",
      "[80]\tvalid_0's binary_logloss: 0.269777\n",
      "[1, 1, 1, 1, 0, 1, 0, 1, 0, 1, 1, 1, 0, 1, 1, 1, 1, 1, 1, 1, 1, 1, 1, 1, 1, 1, 1, 0, 1, 1, 1, 0, 0, 0, 1, 1, 0, 1, 1, 1, 0, 1, 1]\n",
      "roc:0.8011\n",
      "acc:0.8605\n",
      "[[ 8  4]\n",
      " [ 2 29]]\n",
      "f1:0.9062\n",
      "recall: 0.9355\n",
      "precision: 0.8788\n"
     ]
    }
   ],
   "source": [
    "import lightgbm as lgb\n",
    "lgb_train = lgb.Dataset(X_train, y_train)\n",
    "lgb_eval = lgb.Dataset(X_test, y_test, reference=lgb_train)\n",
    "params = {\n",
    "    'boosting_type': 'gbdt',\n",
    "    'objective': 'binary',\n",
    "    'num_leaves': 31,\n",
    "    'learning_rate': 0.05,\n",
    "    'feature_fraction': 0.9,\n",
    "    'bagging_fraction': 0.8,\n",
    "    'n_jobs':-1,\n",
    "    'bagging_freq': 5,\n",
    "    'verbose': 0\n",
    "}\n",
    "\n",
    "clf = lgb.train(params,\n",
    "                lgb_train,\n",
    "                num_boost_round=80,\n",
    "                valid_sets=lgb_eval,\n",
    "                verbose_eval=1,\n",
    "                early_stopping_rounds=5)\n",
    "y_pred = clf.predict(X_test, num_iteration=clf.best_iteration)\n",
    "pred=[]\n",
    "for i in y_pred:\n",
    " if i>0.5: pred.append(1)\n",
    " else:pred.append(0)\n",
    "y_pred=pred\n",
    "print(y_pred)\n",
    "from sklearn.metrics import *\n",
    "print(\"roc:%.4f\"%roc_auc_score(y_test,y_pred))\n",
    "print(\"acc:%.4f\"%accuracy_score(y_test,y_pred))\n",
    "print(confusion_matrix(y_test, y_pred))\n",
    "print(\"f1:%.4f\"%f1_score(y_test, y_pred))\n",
    "print('recall:','%.4f'%recall_score(y_test, y_pred))\n",
    "print('precision:','%.4f'%precision_score(y_test, y_pred))"
   ]
  },
  {
   "cell_type": "code",
   "execution_count": 173,
   "metadata": {},
   "outputs": [],
   "source": [
    "from imblearn.over_sampling import SMOTE\n",
    "smt = SMOTE(random_state=90)\n",
    "X_train_resampled, y_train_resampled = smt.fit_sample(X_train, y_train)"
   ]
  },
  {
   "cell_type": "code",
   "execution_count": 174,
   "metadata": {},
   "outputs": [],
   "source": [
    "# clf1.fit(X_train_resampled,y_train_resampled)\n",
    "# print(clf1.score(X_test,y_test))"
   ]
  },
  {
   "cell_type": "code",
   "execution_count": 175,
   "metadata": {},
   "outputs": [
    {
     "name": "stdout",
     "output_type": "stream",
     "text": [
      "[1]\tvalid_0's binary_logloss: 0.672922\n",
      "Training until validation scores don't improve for 5 rounds\n",
      "[2]\tvalid_0's binary_logloss: 0.655537\n",
      "[3]\tvalid_0's binary_logloss: 0.638689\n",
      "[4]\tvalid_0's binary_logloss: 0.623661\n",
      "[5]\tvalid_0's binary_logloss: 0.6104\n",
      "[6]\tvalid_0's binary_logloss: 0.601301\n",
      "[7]\tvalid_0's binary_logloss: 0.587418\n",
      "[8]\tvalid_0's binary_logloss: 0.575047\n",
      "[9]\tvalid_0's binary_logloss: 0.560795\n",
      "[10]\tvalid_0's binary_logloss: 0.55504\n",
      "[11]\tvalid_0's binary_logloss: 0.544186\n",
      "[12]\tvalid_0's binary_logloss: 0.53444\n",
      "[13]\tvalid_0's binary_logloss: 0.523204\n",
      "[14]\tvalid_0's binary_logloss: 0.51293\n",
      "[15]\tvalid_0's binary_logloss: 0.506214\n",
      "[16]\tvalid_0's binary_logloss: 0.498946\n",
      "[17]\tvalid_0's binary_logloss: 0.493817\n",
      "[18]\tvalid_0's binary_logloss: 0.489875\n",
      "[19]\tvalid_0's binary_logloss: 0.48065\n",
      "[20]\tvalid_0's binary_logloss: 0.475793\n",
      "[21]\tvalid_0's binary_logloss: 0.46967\n",
      "[22]\tvalid_0's binary_logloss: 0.46421\n",
      "[23]\tvalid_0's binary_logloss: 0.461472\n",
      "[24]\tvalid_0's binary_logloss: 0.451578\n",
      "[25]\tvalid_0's binary_logloss: 0.442472\n",
      "[26]\tvalid_0's binary_logloss: 0.435319\n",
      "[27]\tvalid_0's binary_logloss: 0.4297\n",
      "[28]\tvalid_0's binary_logloss: 0.425755\n",
      "[29]\tvalid_0's binary_logloss: 0.421576\n",
      "[30]\tvalid_0's binary_logloss: 0.414461\n",
      "[31]\tvalid_0's binary_logloss: 0.410094\n",
      "[32]\tvalid_0's binary_logloss: 0.40636\n",
      "[33]\tvalid_0's binary_logloss: 0.40067\n",
      "[34]\tvalid_0's binary_logloss: 0.400372\n",
      "[35]\tvalid_0's binary_logloss: 0.394427\n",
      "[36]\tvalid_0's binary_logloss: 0.391485\n",
      "[37]\tvalid_0's binary_logloss: 0.387704\n",
      "[38]\tvalid_0's binary_logloss: 0.384497\n",
      "[39]\tvalid_0's binary_logloss: 0.381056\n",
      "[40]\tvalid_0's binary_logloss: 0.378244\n",
      "[41]\tvalid_0's binary_logloss: 0.374567\n",
      "[42]\tvalid_0's binary_logloss: 0.369718\n",
      "[43]\tvalid_0's binary_logloss: 0.365448\n",
      "[44]\tvalid_0's binary_logloss: 0.36216\n",
      "[45]\tvalid_0's binary_logloss: 0.3606\n",
      "[46]\tvalid_0's binary_logloss: 0.355228\n",
      "[47]\tvalid_0's binary_logloss: 0.350242\n",
      "[48]\tvalid_0's binary_logloss: 0.348549\n",
      "[49]\tvalid_0's binary_logloss: 0.346361\n",
      "[50]\tvalid_0's binary_logloss: 0.343803\n",
      "[51]\tvalid_0's binary_logloss: 0.339027\n",
      "[52]\tvalid_0's binary_logloss: 0.334624\n",
      "[53]\tvalid_0's binary_logloss: 0.33231\n",
      "[54]\tvalid_0's binary_logloss: 0.328447\n",
      "[55]\tvalid_0's binary_logloss: 0.328543\n",
      "[56]\tvalid_0's binary_logloss: 0.325965\n",
      "[57]\tvalid_0's binary_logloss: 0.323597\n",
      "[58]\tvalid_0's binary_logloss: 0.322734\n",
      "[59]\tvalid_0's binary_logloss: 0.320912\n",
      "[60]\tvalid_0's binary_logloss: 0.318243\n",
      "[61]\tvalid_0's binary_logloss: 0.319289\n",
      "[62]\tvalid_0's binary_logloss: 0.31704\n",
      "[63]\tvalid_0's binary_logloss: 0.317518\n",
      "[64]\tvalid_0's binary_logloss: 0.318861\n",
      "[65]\tvalid_0's binary_logloss: 0.319952\n",
      "[66]\tvalid_0's binary_logloss: 0.317156\n",
      "[67]\tvalid_0's binary_logloss: 0.317049\n",
      "Early stopping, best iteration is:\n",
      "[62]\tvalid_0's binary_logloss: 0.31704\n",
      "[1, 1, 1, 1, 0, 1, 0, 0, 0, 1, 1, 1, 0, 1, 1, 1, 1, 1, 1, 1, 1, 0, 1, 1, 1, 0, 1, 0, 1, 1, 1, 0, 0, 0, 1, 1, 0, 0, 0, 1, 0, 0, 1]\n",
      "roc:0.8199\n",
      "acc:0.8140\n",
      "[[10  2]\n",
      " [ 6 25]]\n",
      "f1:0.8621\n",
      "recall: 0.8065\n",
      "precision: 0.9259\n"
     ]
    }
   ],
   "source": [
    "import lightgbm as lgb\n",
    "lgb_train = lgb.Dataset(X_train_resampled, y_train_resampled)\n",
    "lgb_eval = lgb.Dataset(X_test, y_test, reference=lgb_train)\n",
    "params = {\n",
    "    'boosting_type': 'gbdt',\n",
    "    'objective': 'binary',\n",
    "    'num_leaves': 31,\n",
    "    'learning_rate': 0.05,\n",
    "    'feature_fraction': 0.9,\n",
    "    'bagging_fraction': 0.8,\n",
    "    'n_jobs':-1,\n",
    "    'bagging_freq': 5,\n",
    "    'verbose': 0\n",
    "}\n",
    "\n",
    "clf = lgb.train(params,\n",
    "                lgb_train,\n",
    "                num_boost_round=80,\n",
    "                valid_sets=lgb_eval,\n",
    "                verbose_eval=1,\n",
    "                early_stopping_rounds=5)\n",
    "y_pred = clf.predict(X_test, num_iteration=clf.best_iteration)\n",
    "pred=[]\n",
    "for i in y_pred:\n",
    " if i>0.5: pred.append(1)\n",
    " else:pred.append(0)\n",
    "y_pred=pred\n",
    "print(y_pred)\n",
    "from sklearn.metrics import *\n",
    "print(\"roc:%.4f\"%roc_auc_score(y_test,y_pred))\n",
    "print(\"acc:%.4f\"%accuracy_score(y_test,y_pred))\n",
    "print(confusion_matrix(y_test, y_pred))\n",
    "print(\"f1:%.4f\"%f1_score(y_test, y_pred))\n",
    "print('recall:','%.4f'%recall_score(y_test, y_pred))\n",
    "print('precision:','%.4f'%precision_score(y_test, y_pred))"
   ]
  },
  {
   "cell_type": "code",
   "execution_count": null,
   "metadata": {},
   "outputs": [],
   "source": []
  }
 ],
 "metadata": {
  "kernelspec": {
   "display_name": "Python 3",
   "language": "python",
   "name": "python3"
  },
  "language_info": {
   "codemirror_mode": {
    "name": "ipython",
    "version": 3
   },
   "file_extension": ".py",
   "mimetype": "text/x-python",
   "name": "python",
   "nbconvert_exporter": "python",
   "pygments_lexer": "ipython3",
   "version": "3.6.10"
  }
 },
 "nbformat": 4,
 "nbformat_minor": 4
}
