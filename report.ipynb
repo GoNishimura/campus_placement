{
 "cells": [
  {
   "cell_type": "markdown",
   "metadata": {},
   "source": [
    "# データの概要\n",
    "## Placement data of students in Jain University Bangalore\n",
    "## The goal is to classify the students who was getting placed by corporate (Placed: 0, Not placed: 1).\n",
    "\n",
    "data obtained from:\n",
    "https://www.kaggle.com/benroshan/factors-affecting-campus-placement"
   ]
  },
  {
   "cell_type": "markdown",
   "metadata": {},
   "source": [
    "# 結果\n",
    "\n",
    "|No data augumentation|positive|negative|\n",
    "|:-|:-|:-|\n",
    "|true|29|2\n",
    "|false|4|8\n",
    "\n",
    "\n",
    "|With data augumentation|positive|negative|\n",
    "|:-|:-|:-|\n",
    "|true|25|6\n",
    "|false|2|10\n",
    "\n",
    "\n",
    "||With augumentation|No augumentation|augumentation effect|\n",
    "|:-|:-|:-|:-|\n",
    "|ROC|0.819892|0.801075|0.018817\n",
    "|ACC|0.813953|0.860465|-0.046512\n",
    "|F1|0.714286|0.727273|-0.012987\n",
    "|recall|0.833333|0.666667|0.166667\n",
    "|precision|0.625000|0.800000|-0.175000"
   ]
  },
  {
   "cell_type": "markdown",
   "metadata": {},
   "source": [
    "# 考察\n",
    "\n",
    "SMOTEで足りなかったNot Placedが足された（セル3と10を参照）ことによって、\n",
    "- ROC(真陽性(TP)と偽陽性(FP)についての指標)とrecall（TP / (TP + FN)）が上昇したが、\n",
    "- accuracy((TP + TN) / (TP + TN + FP + FN))とprecision(TP　/　(TP　+　FP))、F1(precisionとrecallの調和平均)が減少した。\n",
    "\n",
    "予測が全体としてNegativeに偏ってPositiveに対して弱くなっており、きちんと教師データにfalseが増えたことを反映した結果になっている。  \n",
    "ただ、指標上ではスコアが下がってしまったものが多く、上がったものも上がり幅がそれほど大きくなく、今回に関してはdata augumentationをしなくても良かったと思われる。"
   ]
  },
  {
   "cell_type": "code",
   "execution_count": 1,
   "metadata": {},
   "outputs": [],
   "source": [
    "import pandas as pd\n",
    "data=pd.read_csv('Placement_Data_Full_Class.csv',encoding=\"utf-8\")"
   ]
  },
  {
   "cell_type": "code",
   "execution_count": 2,
   "metadata": {},
   "outputs": [],
   "source": [
    "data = data.drop(['sl_no'], axis=1)\n",
    "data = data.drop(['salary'], axis=1)\n",
    "y = data['status'].map({'Placed': 0, 'Not Placed': 1})\n",
    "X = data.drop(['status'], axis=1)\n",
    "X = pd.get_dummies(X)"
   ]
  },
  {
   "cell_type": "code",
   "execution_count": 3,
   "metadata": {},
   "outputs": [
    {
     "data": {
      "text/plain": [
       "<matplotlib.axes._subplots.AxesSubplot at 0x1a1bcffe48>"
      ]
     },
     "execution_count": 3,
     "metadata": {},
     "output_type": "execute_result"
    },
    {
     "data": {
      "image/png": "[encoded data removed]",
      "text/plain": [
       "<Figure size 432x288 with 1 Axes>"
      ]
     },
     "metadata": {
      "needs_background": "light"
     },
     "output_type": "display_data"
    }
   ],
   "source": [
    "import seaborn as sns\n",
    "sns.countplot('status', data=data)"
   ]
  },
  {
   "cell_type": "code",
   "execution_count": 4,
   "metadata": {},
   "outputs": [
    {
     "data": {
      "text/plain": [
       "215"
      ]
     },
     "execution_count": 4,
     "metadata": {},
     "output_type": "execute_result"
    }
   ],
   "source": [
    "data['status'].size"
   ]
  },
  {
   "cell_type": "code",
   "execution_count": 5,
   "metadata": {},
   "outputs": [],
   "source": [
    "from sklearn.model_selection import train_test_split\n",
    "X_train,X_test,y_train,y_test=train_test_split(X,y,test_size=0.2,random_state=54,shuffle=True)"
   ]
  },
  {
   "cell_type": "code",
   "execution_count": 6,
   "metadata": {},
   "outputs": [
    {
     "data": {
      "text/plain": [
       "<matplotlib.axes._subplots.AxesSubplot at 0x1a1c89d0f0>"
      ]
     },
     "execution_count": 6,
     "metadata": {},
     "output_type": "execute_result"
    },
    {
     "data": {
      "image/png": "[encoded data removed]",
      "text/plain": [
       "<Figure size 432x288 with 1 Axes>"
      ]
     },
     "metadata": {
      "needs_background": "light"
     },
     "output_type": "display_data"
    }
   ],
   "source": [
    "sns.countplot('status', data=pd.DataFrame(y_test))"
   ]
  },
  {
   "cell_type": "code",
   "execution_count": 7,
   "metadata": {},
   "outputs": [],
   "source": [
    "result = [[],[]]"
   ]
  },
  {
   "cell_type": "code",
   "execution_count": 8,
   "metadata": {},
   "outputs": [
    {
     "name": "stdout",
     "output_type": "stream",
     "text": [
      "[1]\tvalid_0's binary_logloss: 0.578628\n",
      "Training until validation scores don't improve for 5 rounds\n",
      "[2]\tvalid_0's binary_logloss: 0.559844\n",
      "[3]\tvalid_0's binary_logloss: 0.543054\n",
      "[4]\tvalid_0's binary_logloss: 0.52943\n",
      "[5]\tvalid_0's binary_logloss: 0.515642\n",
      "[6]\tvalid_0's binary_logloss: 0.504116\n",
      "[7]\tvalid_0's binary_logloss: 0.493722\n",
      "[8]\tvalid_0's binary_logloss: 0.482091\n",
      "[9]\tvalid_0's binary_logloss: 0.473021\n",
      "[10]\tvalid_0's binary_logloss: 0.469547\n",
      "[11]\tvalid_0's binary_logloss: 0.457898\n",
      "[12]\tvalid_0's binary_logloss: 0.447274\n",
      "[13]\tvalid_0's binary_logloss: 0.437579\n",
      "[14]\tvalid_0's binary_logloss: 0.430359\n",
      "[15]\tvalid_0's binary_logloss: 0.423389\n",
      "[16]\tvalid_0's binary_logloss: 0.419231\n",
      "[17]\tvalid_0's binary_logloss: 0.414649\n",
      "[18]\tvalid_0's binary_logloss: 0.411238\n",
      "[19]\tvalid_0's binary_logloss: 0.408202\n",
      "[20]\tvalid_0's binary_logloss: 0.403474\n",
      "[21]\tvalid_0's binary_logloss: 0.398603\n",
      "[22]\tvalid_0's binary_logloss: 0.393462\n",
      "[23]\tvalid_0's binary_logloss: 0.388895\n",
      "[24]\tvalid_0's binary_logloss: 0.384849\n",
      "[25]\tvalid_0's binary_logloss: 0.380854\n",
      "[26]\tvalid_0's binary_logloss: 0.377211\n",
      "[27]\tvalid_0's binary_logloss: 0.374673\n",
      "[28]\tvalid_0's binary_logloss: 0.370617\n",
      "[29]\tvalid_0's binary_logloss: 0.364874\n",
      "[30]\tvalid_0's binary_logloss: 0.360129\n",
      "[31]\tvalid_0's binary_logloss: 0.357813\n",
      "[32]\tvalid_0's binary_logloss: 0.352868\n",
      "[33]\tvalid_0's binary_logloss: 0.348402\n",
      "[34]\tvalid_0's binary_logloss: 0.344374\n",
      "[35]\tvalid_0's binary_logloss: 0.340743\n",
      "[36]\tvalid_0's binary_logloss: 0.340097\n",
      "[37]\tvalid_0's binary_logloss: 0.339727\n",
      "[38]\tvalid_0's binary_logloss: 0.338347\n",
      "[39]\tvalid_0's binary_logloss: 0.334691\n",
      "[40]\tvalid_0's binary_logloss: 0.335088\n",
      "[41]\tvalid_0's binary_logloss: 0.332165\n",
      "[42]\tvalid_0's binary_logloss: 0.326399\n",
      "[43]\tvalid_0's binary_logloss: 0.324492\n",
      "[44]\tvalid_0's binary_logloss: 0.321587\n",
      "[45]\tvalid_0's binary_logloss: 0.3207\n",
      "[46]\tvalid_0's binary_logloss: 0.318809\n",
      "[47]\tvalid_0's binary_logloss: 0.312802\n",
      "[48]\tvalid_0's binary_logloss: 0.307231\n",
      "[49]\tvalid_0's binary_logloss: 0.302063\n",
      "[50]\tvalid_0's binary_logloss: 0.298136\n",
      "[51]\tvalid_0's binary_logloss: 0.296681\n",
      "[52]\tvalid_0's binary_logloss: 0.296733\n",
      "[53]\tvalid_0's binary_logloss: 0.295721\n",
      "[54]\tvalid_0's binary_logloss: 0.296111\n",
      "[55]\tvalid_0's binary_logloss: 0.295465\n",
      "[56]\tvalid_0's binary_logloss: 0.294614\n",
      "[57]\tvalid_0's binary_logloss: 0.293232\n",
      "[58]\tvalid_0's binary_logloss: 0.291807\n",
      "[59]\tvalid_0's binary_logloss: 0.291191\n",
      "[60]\tvalid_0's binary_logloss: 0.290761\n",
      "[61]\tvalid_0's binary_logloss: 0.290628\n",
      "[62]\tvalid_0's binary_logloss: 0.290749\n",
      "[63]\tvalid_0's binary_logloss: 0.291363\n",
      "[64]\tvalid_0's binary_logloss: 0.292065\n",
      "[65]\tvalid_0's binary_logloss: 0.292327\n",
      "[66]\tvalid_0's binary_logloss: 0.288391\n",
      "[67]\tvalid_0's binary_logloss: 0.28481\n",
      "[68]\tvalid_0's binary_logloss: 0.282292\n",
      "[69]\tvalid_0's binary_logloss: 0.279596\n",
      "[70]\tvalid_0's binary_logloss: 0.277059\n",
      "[71]\tvalid_0's binary_logloss: 0.276962\n",
      "[72]\tvalid_0's binary_logloss: 0.277363\n",
      "[73]\tvalid_0's binary_logloss: 0.276355\n",
      "[74]\tvalid_0's binary_logloss: 0.274427\n",
      "[75]\tvalid_0's binary_logloss: 0.274072\n",
      "[76]\tvalid_0's binary_logloss: 0.273212\n",
      "[77]\tvalid_0's binary_logloss: 0.273854\n",
      "[78]\tvalid_0's binary_logloss: 0.271675\n",
      "[79]\tvalid_0's binary_logloss: 0.271641\n",
      "[80]\tvalid_0's binary_logloss: 0.269777\n",
      "Did not meet early stopping. Best iteration is:\n",
      "[80]\tvalid_0's binary_logloss: 0.269777\n",
      "[0, 0, 0, 0, 1, 0, 1, 0, 1, 0, 0, 0, 1, 0, 0, 0, 0, 0, 0, 0, 0, 0, 0, 0, 0, 0, 0, 1, 0, 0, 0, 1, 1, 1, 0, 0, 1, 0, 0, 0, 1, 0, 0]\n"
     ]
    },
    {
     "name": "stderr",
     "output_type": "stream",
     "text": [
      "/Users/Go/anaconda3/lib/python3.6/site-packages/lightgbm/__init__.py:48: UserWarning: Starting from version 2.2.1, the library file in distribution wheels for macOS is built by the Apple Clang (Xcode_8.3.3) compiler.\n",
      "This means that in case of installing LightGBM from PyPI via the ``pip install lightgbm`` command, you don't need to install the gcc compiler anymore.\n",
      "Instead of that, you need to install the OpenMP library, which is required for running LightGBM on the system with the Apple Clang compiler.\n",
      "You can install the OpenMP library by the following command: ``brew install libomp``.\n",
      "  \"You can install the OpenMP library by the following command: ``brew install libomp``.\", UserWarning)\n"
     ]
    }
   ],
   "source": [
    "import lightgbm as lgb\n",
    "lgb_train = lgb.Dataset(X_train, y_train)\n",
    "lgb_eval = lgb.Dataset(X_test, y_test, reference=lgb_train)\n",
    "params = {\n",
    "    'boosting_type': 'gbdt',\n",
    "    'objective': 'binary',\n",
    "    'num_leaves': 31,\n",
    "    'learning_rate': 0.05,\n",
    "    'feature_fraction': 0.9,\n",
    "    'bagging_fraction': 0.8,\n",
    "    'n_jobs':-1,\n",
    "    'bagging_freq': 5,\n",
    "    'verbose': 0\n",
    "}\n",
    "\n",
    "clf = lgb.train(params,\n",
    "                lgb_train,\n",
    "                num_boost_round=80,\n",
    "                valid_sets=lgb_eval,\n",
    "                verbose_eval=1,\n",
    "                early_stopping_rounds=5)\n",
    "y_pred = clf.predict(X_test, num_iteration=clf.best_iteration)\n",
    "pred=[]\n",
    "for i in y_pred:\n",
    " if i>0.5: pred.append(1)\n",
    " else:pred.append(0)\n",
    "y_pred=pred\n",
    "print(y_pred)\n",
    "from sklearn.metrics import *\n",
    "# print(\"roc:%.4f\"%roc_auc_score(y_test,y_pred))\n",
    "# print(\"acc:%.4f\"%accuracy_score(y_test,y_pred))\n",
    "# print(confusion_matrix(y_test, y_pred))\n",
    "# print(\"f1:%.4f\"%f1_score(y_test, y_pred))\n",
    "# print('recall:','%.4f'%recall_score(y_test, y_pred))\n",
    "# print('precision:','%.4f'%precision_score(y_test, y_pred))\n",
    "result[0].append(roc_auc_score(y_test,y_pred))\n",
    "result[0].append(accuracy_score(y_test,y_pred))\n",
    "result[0].append(confusion_matrix(y_test,y_pred))\n",
    "result[0].append(f1_score(y_test,y_pred))\n",
    "result[0].append(recall_score(y_test,y_pred))\n",
    "result[0].append(precision_score(y_test,y_pred))"
   ]
  },
  {
   "cell_type": "code",
   "execution_count": 9,
   "metadata": {},
   "outputs": [
    {
     "name": "stderr",
     "output_type": "stream",
     "text": [
      "Using TensorFlow backend.\n",
      "/Users/Go/anaconda3/lib/python3.6/site-packages/tensorflow/python/framework/dtypes.py:516: FutureWarning: Passing (type, 1) or '1type' as a synonym of type is deprecated; in a future version of numpy, it will be understood as (type, (1,)) / '(1,)type'.\n",
      "  _np_qint8 = np.dtype([(\"qint8\", np.int8, 1)])\n",
      "/Users/Go/anaconda3/lib/python3.6/site-packages/tensorflow/python/framework/dtypes.py:517: FutureWarning: Passing (type, 1) or '1type' as a synonym of type is deprecated; in a future version of numpy, it will be understood as (type, (1,)) / '(1,)type'.\n",
      "  _np_quint8 = np.dtype([(\"quint8\", np.uint8, 1)])\n",
      "/Users/Go/anaconda3/lib/python3.6/site-packages/tensorflow/python/framework/dtypes.py:518: FutureWarning: Passing (type, 1) or '1type' as a synonym of type is deprecated; in a future version of numpy, it will be understood as (type, (1,)) / '(1,)type'.\n",
      "  _np_qint16 = np.dtype([(\"qint16\", np.int16, 1)])\n",
      "/Users/Go/anaconda3/lib/python3.6/site-packages/tensorflow/python/framework/dtypes.py:519: FutureWarning: Passing (type, 1) or '1type' as a synonym of type is deprecated; in a future version of numpy, it will be understood as (type, (1,)) / '(1,)type'.\n",
      "  _np_quint16 = np.dtype([(\"quint16\", np.uint16, 1)])\n",
      "/Users/Go/anaconda3/lib/python3.6/site-packages/tensorflow/python/framework/dtypes.py:520: FutureWarning: Passing (type, 1) or '1type' as a synonym of type is deprecated; in a future version of numpy, it will be understood as (type, (1,)) / '(1,)type'.\n",
      "  _np_qint32 = np.dtype([(\"qint32\", np.int32, 1)])\n",
      "/Users/Go/anaconda3/lib/python3.6/site-packages/tensorflow/python/framework/dtypes.py:525: FutureWarning: Passing (type, 1) or '1type' as a synonym of type is deprecated; in a future version of numpy, it will be understood as (type, (1,)) / '(1,)type'.\n",
      "  np_resource = np.dtype([(\"resource\", np.ubyte, 1)])\n",
      "/Users/Go/anaconda3/lib/python3.6/site-packages/tensorboard/compat/tensorflow_stub/dtypes.py:541: FutureWarning: Passing (type, 1) or '1type' as a synonym of type is deprecated; in a future version of numpy, it will be understood as (type, (1,)) / '(1,)type'.\n",
      "  _np_qint8 = np.dtype([(\"qint8\", np.int8, 1)])\n",
      "/Users/Go/anaconda3/lib/python3.6/site-packages/tensorboard/compat/tensorflow_stub/dtypes.py:542: FutureWarning: Passing (type, 1) or '1type' as a synonym of type is deprecated; in a future version of numpy, it will be understood as (type, (1,)) / '(1,)type'.\n",
      "  _np_quint8 = np.dtype([(\"quint8\", np.uint8, 1)])\n",
      "/Users/Go/anaconda3/lib/python3.6/site-packages/tensorboard/compat/tensorflow_stub/dtypes.py:543: FutureWarning: Passing (type, 1) or '1type' as a synonym of type is deprecated; in a future version of numpy, it will be understood as (type, (1,)) / '(1,)type'.\n",
      "  _np_qint16 = np.dtype([(\"qint16\", np.int16, 1)])\n",
      "/Users/Go/anaconda3/lib/python3.6/site-packages/tensorboard/compat/tensorflow_stub/dtypes.py:544: FutureWarning: Passing (type, 1) or '1type' as a synonym of type is deprecated; in a future version of numpy, it will be understood as (type, (1,)) / '(1,)type'.\n",
      "  _np_quint16 = np.dtype([(\"quint16\", np.uint16, 1)])\n",
      "/Users/Go/anaconda3/lib/python3.6/site-packages/tensorboard/compat/tensorflow_stub/dtypes.py:545: FutureWarning: Passing (type, 1) or '1type' as a synonym of type is deprecated; in a future version of numpy, it will be understood as (type, (1,)) / '(1,)type'.\n",
      "  _np_qint32 = np.dtype([(\"qint32\", np.int32, 1)])\n",
      "/Users/Go/anaconda3/lib/python3.6/site-packages/tensorboard/compat/tensorflow_stub/dtypes.py:550: FutureWarning: Passing (type, 1) or '1type' as a synonym of type is deprecated; in a future version of numpy, it will be understood as (type, (1,)) / '(1,)type'.\n",
      "  np_resource = np.dtype([(\"resource\", np.ubyte, 1)])\n"
     ]
    }
   ],
   "source": [
    "from imblearn.over_sampling import SMOTE\n",
    "smt = SMOTE(random_state=90)\n",
    "X_train_resampled, y_train_resampled = smt.fit_sample(X_train, y_train)"
   ]
  },
  {
   "cell_type": "code",
   "execution_count": 10,
   "metadata": {},
   "outputs": [
    {
     "data": {
      "text/plain": [
       "<matplotlib.axes._subplots.AxesSubplot at 0x1a32934908>"
      ]
     },
     "execution_count": 10,
     "metadata": {},
     "output_type": "execute_result"
    },
    {
     "data": {
      "image/png": "[encoded data removed]",
      "text/plain": [
       "<Figure size 432x288 with 1 Axes>"
      ]
     },
     "metadata": {
      "needs_background": "light"
     },
     "output_type": "display_data"
    }
   ],
   "source": [
    "sns.countplot('status', data=pd.DataFrame(y_train_resampled))"
   ]
  },
  {
   "cell_type": "code",
   "execution_count": 11,
   "metadata": {},
   "outputs": [
    {
     "data": {
      "text/plain": [
       "234"
      ]
     },
     "execution_count": 11,
     "metadata": {},
     "output_type": "execute_result"
    }
   ],
   "source": [
    "y_train_resampled.size"
   ]
  },
  {
   "cell_type": "code",
   "execution_count": 12,
   "metadata": {},
   "outputs": [
    {
     "name": "stdout",
     "output_type": "stream",
     "text": [
      "[1]\tvalid_0's binary_logloss: 0.672922\n",
      "Training until validation scores don't improve for 5 rounds\n",
      "[2]\tvalid_0's binary_logloss: 0.655537\n",
      "[3]\tvalid_0's binary_logloss: 0.638689\n",
      "[4]\tvalid_0's binary_logloss: 0.623661\n",
      "[5]\tvalid_0's binary_logloss: 0.6104\n",
      "[6]\tvalid_0's binary_logloss: 0.601301\n",
      "[7]\tvalid_0's binary_logloss: 0.587418\n",
      "[8]\tvalid_0's binary_logloss: 0.575047\n",
      "[9]\tvalid_0's binary_logloss: 0.560795\n",
      "[10]\tvalid_0's binary_logloss: 0.55504\n",
      "[11]\tvalid_0's binary_logloss: 0.544186\n",
      "[12]\tvalid_0's binary_logloss: 0.53444\n",
      "[13]\tvalid_0's binary_logloss: 0.523204\n",
      "[14]\tvalid_0's binary_logloss: 0.51293\n",
      "[15]\tvalid_0's binary_logloss: 0.506214\n",
      "[16]\tvalid_0's binary_logloss: 0.498946\n",
      "[17]\tvalid_0's binary_logloss: 0.493817\n",
      "[18]\tvalid_0's binary_logloss: 0.489875\n",
      "[19]\tvalid_0's binary_logloss: 0.48065\n",
      "[20]\tvalid_0's binary_logloss: 0.475793\n",
      "[21]\tvalid_0's binary_logloss: 0.46967\n",
      "[22]\tvalid_0's binary_logloss: 0.46421\n",
      "[23]\tvalid_0's binary_logloss: 0.461472\n",
      "[24]\tvalid_0's binary_logloss: 0.451578\n",
      "[25]\tvalid_0's binary_logloss: 0.442472\n",
      "[26]\tvalid_0's binary_logloss: 0.435319\n",
      "[27]\tvalid_0's binary_logloss: 0.4297\n",
      "[28]\tvalid_0's binary_logloss: 0.425755\n",
      "[29]\tvalid_0's binary_logloss: 0.421576\n",
      "[30]\tvalid_0's binary_logloss: 0.414461\n",
      "[31]\tvalid_0's binary_logloss: 0.410094\n",
      "[32]\tvalid_0's binary_logloss: 0.40636\n",
      "[33]\tvalid_0's binary_logloss: 0.40067\n",
      "[34]\tvalid_0's binary_logloss: 0.400372\n",
      "[35]\tvalid_0's binary_logloss: 0.394427\n",
      "[36]\tvalid_0's binary_logloss: 0.391485\n",
      "[37]\tvalid_0's binary_logloss: 0.387704\n",
      "[38]\tvalid_0's binary_logloss: 0.384497\n",
      "[39]\tvalid_0's binary_logloss: 0.381056\n",
      "[40]\tvalid_0's binary_logloss: 0.378244\n",
      "[41]\tvalid_0's binary_logloss: 0.374567\n",
      "[42]\tvalid_0's binary_logloss: 0.369718\n",
      "[43]\tvalid_0's binary_logloss: 0.365448\n",
      "[44]\tvalid_0's binary_logloss: 0.36216\n",
      "[45]\tvalid_0's binary_logloss: 0.3606\n",
      "[46]\tvalid_0's binary_logloss: 0.355228\n",
      "[47]\tvalid_0's binary_logloss: 0.350242\n",
      "[48]\tvalid_0's binary_logloss: 0.348549\n",
      "[49]\tvalid_0's binary_logloss: 0.346361\n",
      "[50]\tvalid_0's binary_logloss: 0.343803\n",
      "[51]\tvalid_0's binary_logloss: 0.339027\n",
      "[52]\tvalid_0's binary_logloss: 0.334624\n",
      "[53]\tvalid_0's binary_logloss: 0.33231\n",
      "[54]\tvalid_0's binary_logloss: 0.328447\n",
      "[55]\tvalid_0's binary_logloss: 0.328543\n",
      "[56]\tvalid_0's binary_logloss: 0.325965\n",
      "[57]\tvalid_0's binary_logloss: 0.323597\n",
      "[58]\tvalid_0's binary_logloss: 0.322734\n",
      "[59]\tvalid_0's binary_logloss: 0.320912\n",
      "[60]\tvalid_0's binary_logloss: 0.318243\n",
      "[61]\tvalid_0's binary_logloss: 0.319289\n",
      "[62]\tvalid_0's binary_logloss: 0.31704\n",
      "[63]\tvalid_0's binary_logloss: 0.317518\n",
      "[64]\tvalid_0's binary_logloss: 0.318861\n",
      "[65]\tvalid_0's binary_logloss: 0.319952\n",
      "[66]\tvalid_0's binary_logloss: 0.317156\n",
      "[67]\tvalid_0's binary_logloss: 0.317049\n",
      "Early stopping, best iteration is:\n",
      "[62]\tvalid_0's binary_logloss: 0.31704\n",
      "[0, 0, 0, 0, 1, 0, 1, 1, 1, 0, 0, 0, 1, 0, 0, 0, 0, 0, 0, 0, 0, 1, 0, 0, 0, 1, 0, 1, 0, 0, 0, 1, 1, 1, 0, 0, 1, 1, 1, 0, 1, 1, 0]\n"
     ]
    }
   ],
   "source": [
    "import lightgbm as lgb\n",
    "lgb_train = lgb.Dataset(X_train_resampled, y_train_resampled)\n",
    "lgb_eval = lgb.Dataset(X_test, y_test, reference=lgb_train)\n",
    "params = {\n",
    "    'boosting_type': 'gbdt',\n",
    "    'objective': 'binary',\n",
    "    'num_leaves': 31,\n",
    "    'learning_rate': 0.05,\n",
    "    'feature_fraction': 0.9,\n",
    "    'bagging_fraction': 0.8,\n",
    "    'n_jobs':-1,\n",
    "    'bagging_freq': 5,\n",
    "    'verbose': 0\n",
    "}\n",
    "\n",
    "clf = lgb.train(params,\n",
    "                lgb_train,\n",
    "                num_boost_round=80,\n",
    "                valid_sets=lgb_eval,\n",
    "                verbose_eval=1,\n",
    "                early_stopping_rounds=5)\n",
    "y_pred = clf.predict(X_test, num_iteration=clf.best_iteration)\n",
    "pred=[]\n",
    "for i in y_pred:\n",
    " if i>0.5: pred.append(1)\n",
    " else:pred.append(0)\n",
    "y_pred=pred\n",
    "print(y_pred)\n",
    "from sklearn.metrics import *\n",
    "result[1].append(roc_auc_score(y_test,y_pred))\n",
    "result[1].append(accuracy_score(y_test,y_pred))\n",
    "result[1].append(confusion_matrix(y_test,y_pred))\n",
    "result[1].append(f1_score(y_test,y_pred))\n",
    "result[1].append(recall_score(y_test,y_pred))\n",
    "result[1].append(precision_score(y_test,y_pred))"
   ]
  },
  {
   "cell_type": "code",
   "execution_count": 13,
   "metadata": {},
   "outputs": [],
   "source": [
    "result_matrix = pd.DataFrame(index=['ROC', 'ACC', 'F1', 'recall', 'precision'], columns=['With aug', 'No aug'])"
   ]
  },
  {
   "cell_type": "code",
   "execution_count": 14,
   "metadata": {},
   "outputs": [],
   "source": [
    "result_matrix['With aug'] = result[1][0:2] + result[1][3:]\n",
    "result_matrix['No aug'] = result[0][0:2] + result[0][3:]\n",
    "result_matrix['aug effect'] = result_matrix['With aug'] - result_matrix['No aug']"
   ]
  },
  {
   "cell_type": "code",
   "execution_count": 15,
   "metadata": {},
   "outputs": [
    {
     "data": {
      "text/html": [
       "<div>\n",
       "<style scoped>\n",
       "    .dataframe tbody tr th:only-of-type {\n",
       "        vertical-align: middle;\n",
       "    }\n",
       "\n",
       "    .dataframe tbody tr th {\n",
       "        vertical-align: top;\n",
       "    }\n",
       "\n",
       "    .dataframe thead th {\n",
       "        text-align: right;\n",
       "    }\n",
       "</style>\n",
       "<table border=\"1\" class=\"dataframe\">\n",
       "  <thead>\n",
       "    <tr style=\"text-align: right;\">\n",
       "      <th></th>\n",
       "      <th>With aug</th>\n",
       "      <th>No aug</th>\n",
       "      <th>aug effect</th>\n",
       "    </tr>\n",
       "  </thead>\n",
       "  <tbody>\n",
       "    <tr>\n",
       "      <th>ROC</th>\n",
       "      <td>0.819892</td>\n",
       "      <td>0.801075</td>\n",
       "      <td>0.018817</td>\n",
       "    </tr>\n",
       "    <tr>\n",
       "      <th>ACC</th>\n",
       "      <td>0.813953</td>\n",
       "      <td>0.860465</td>\n",
       "      <td>-0.046512</td>\n",
       "    </tr>\n",
       "    <tr>\n",
       "      <th>F1</th>\n",
       "      <td>0.714286</td>\n",
       "      <td>0.727273</td>\n",
       "      <td>-0.012987</td>\n",
       "    </tr>\n",
       "    <tr>\n",
       "      <th>recall</th>\n",
       "      <td>0.833333</td>\n",
       "      <td>0.666667</td>\n",
       "      <td>0.166667</td>\n",
       "    </tr>\n",
       "    <tr>\n",
       "      <th>precision</th>\n",
       "      <td>0.625000</td>\n",
       "      <td>0.800000</td>\n",
       "      <td>-0.175000</td>\n",
       "    </tr>\n",
       "  </tbody>\n",
       "</table>\n",
       "</div>"
      ],
      "text/plain": [
       "           With aug    No aug  aug effect\n",
       "ROC        0.819892  0.801075    0.018817\n",
       "ACC        0.813953  0.860465   -0.046512\n",
       "F1         0.714286  0.727273   -0.012987\n",
       "recall     0.833333  0.666667    0.166667\n",
       "precision  0.625000  0.800000   -0.175000"
      ]
     },
     "execution_count": 15,
     "metadata": {},
     "output_type": "execute_result"
    }
   ],
   "source": [
    "result_matrix"
   ]
  },
  {
   "cell_type": "code",
   "execution_count": 16,
   "metadata": {},
   "outputs": [
    {
     "data": {
      "text/html": [
       "<div>\n",
       "<style scoped>\n",
       "    .dataframe tbody tr th:only-of-type {\n",
       "        vertical-align: middle;\n",
       "    }\n",
       "\n",
       "    .dataframe tbody tr th {\n",
       "        vertical-align: top;\n",
       "    }\n",
       "\n",
       "    .dataframe thead th {\n",
       "        text-align: right;\n",
       "    }\n",
       "</style>\n",
       "<table border=\"1\" class=\"dataframe\">\n",
       "  <thead>\n",
       "    <tr style=\"text-align: right;\">\n",
       "      <th></th>\n",
       "      <th>positive</th>\n",
       "      <th>negative</th>\n",
       "    </tr>\n",
       "  </thead>\n",
       "  <tbody>\n",
       "    <tr>\n",
       "      <th>true</th>\n",
       "      <td>29</td>\n",
       "      <td>2</td>\n",
       "    </tr>\n",
       "    <tr>\n",
       "      <th>false</th>\n",
       "      <td>4</td>\n",
       "      <td>8</td>\n",
       "    </tr>\n",
       "  </tbody>\n",
       "</table>\n",
       "</div>"
      ],
      "text/plain": [
       "       positive  negative\n",
       "true         29         2\n",
       "false         4         8"
      ]
     },
     "execution_count": 16,
     "metadata": {},
     "output_type": "execute_result"
    }
   ],
   "source": [
    "pd.DataFrame(index=['true', 'false'], columns=['positive', 'negative'], data=result[0][2])"
   ]
  },
  {
   "cell_type": "code",
   "execution_count": 17,
   "metadata": {},
   "outputs": [
    {
     "data": {
      "text/html": [
       "<div>\n",
       "<style scoped>\n",
       "    .dataframe tbody tr th:only-of-type {\n",
       "        vertical-align: middle;\n",
       "    }\n",
       "\n",
       "    .dataframe tbody tr th {\n",
       "        vertical-align: top;\n",
       "    }\n",
       "\n",
       "    .dataframe thead th {\n",
       "        text-align: right;\n",
       "    }\n",
       "</style>\n",
       "<table border=\"1\" class=\"dataframe\">\n",
       "  <thead>\n",
       "    <tr style=\"text-align: right;\">\n",
       "      <th></th>\n",
       "      <th>positive</th>\n",
       "      <th>negative</th>\n",
       "    </tr>\n",
       "  </thead>\n",
       "  <tbody>\n",
       "    <tr>\n",
       "      <th>true</th>\n",
       "      <td>25</td>\n",
       "      <td>6</td>\n",
       "    </tr>\n",
       "    <tr>\n",
       "      <th>false</th>\n",
       "      <td>2</td>\n",
       "      <td>10</td>\n",
       "    </tr>\n",
       "  </tbody>\n",
       "</table>\n",
       "</div>"
      ],
      "text/plain": [
       "       positive  negative\n",
       "true         25         6\n",
       "false         2        10"
      ]
     },
     "execution_count": 17,
     "metadata": {},
     "output_type": "execute_result"
    }
   ],
   "source": [
    "pd.DataFrame(index=['true', 'false'], columns=['positive', 'negative'], data=result[1][2])"
   ]
  },
  {
   "cell_type": "code",
   "execution_count": null,
   "metadata": {},
   "outputs": [],
   "source": []
  }
 ],
 "metadata": {
  "kernelspec": {
   "display_name": "Python 3",
   "language": "python",
   "name": "python3"
  },
  "language_info": {
   "codemirror_mode": {
    "name": "ipython",
    "version": 3
   },
   "file_extension": ".py",
   "mimetype": "text/x-python",
   "name": "python",
   "nbconvert_exporter": "python",
   "pygments_lexer": "ipython3",
   "version": "3.6.10"
  }
 },
 "nbformat": 4,
 "nbformat_minor": 4
}
